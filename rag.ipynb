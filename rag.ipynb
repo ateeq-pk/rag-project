{
 "cells": [
  {
   "cell_type": "code",
   "execution_count": 1,
   "metadata": {},
   "outputs": [],
   "source": [
    "import os\n",
    "from dotenv import load_dotenv\n",
    "\n",
    "load_dotenv()\n",
    "\n",
    "os.environ['OPENAI_API_KEY'] = ''\n",
    "os.environ['PINECONE_API_KEY'] = ''\n",
    "os.environ['LANGCHAIN_TRACING_V2'] = 'true'\n",
    "os.environ['LANGCHAIN_API_KEY'] = ''\n",
    "os.environ[\"GOOGLE_API_KEY\"] = ''"
   ]
  },
  {
   "cell_type": "code",
   "execution_count": 15,
   "metadata": {},
   "outputs": [
    {
     "data": {
      "text/plain": [
       "[Document(metadata={'source': 'zinger_burgers.pdf', 'page': 0}, page_content='Popular Types of Zinger Burgers and Their Ingredients\\nClassic Zinger Burger\\n- Spicy fried chicken fillet (crispy)\\n- Lettuce\\n- Mayonnaise or spicy mayo\\n- Soft burger bun\\nCheese Zinger Burger\\n- Spicy fried chicken fillet (crispy)\\n- Slice of cheese (usually cheddar)\\n- Lettuce\\n- Mayonnaise or spicy mayo\\n- Soft burger bun\\nZinger Tower Burger\\n- Spicy fried chicken fillet (crispy)\\n- Hash brown or onion ring\\n- Slice of cheese\\n- Lettuce\\n- Tomato slice\\n- Mayonnaise or spicy mayo\\n- Soft burger bun\\nBBQ Zinger Burger\\n- Spicy fried chicken fillet (crispy)\\n- BBQ sauce\\n- Lettuce'),\n",
       " Document(metadata={'source': 'zinger_burgers.pdf', 'page': 1}, page_content='- Tomato slice\\n- Grilled onions (optional)\\n- Soft burger bun\\nDouble Zinger Burger\\n- Two spicy fried chicken fillets (crispy)\\n- Double slice of cheese\\n- Lettuce\\n- Mayonnaise or spicy mayo\\n- Soft burger bun\\nZinger with Jalapeño\\n- Spicy fried chicken fillet (crispy)\\n- Jalapeño slices\\n- Lettuce\\n- Spicy mayo or chipotle sauce\\n- Soft burger bun\\nZinger with Coleslaw\\n- Spicy fried chicken fillet (crispy)\\n- Coleslaw (creamy cabbage salad)\\n- Soft burger bun\\nZinger with Peri-Peri Sauce\\n- Spicy fried chicken fillet (crispy)\\n- Peri-Peri sauce (a tangy, spicy sauce)\\n- Lettuce\\n- Tomato slice'),\n",
       " Document(metadata={'source': 'zinger_burgers.pdf', 'page': 2}, page_content='- Soft burger bun\\nBacon Zinger Burger\\n- Spicy fried chicken fillet (crispy)\\n- Crispy bacon strips\\n- Slice of cheese\\n- Lettuce\\n- Tomato slice\\n- Mayonnaise or BBQ sauce\\n- Soft burger bun\\nZinger with Avocado\\n- Spicy fried chicken fillet (crispy)\\n- Sliced avocado\\n- Lettuce\\n- Tomato slice\\n- Mayonnaise or ranch dressing\\n- Soft burger bun')]"
      ]
     },
     "execution_count": 15,
     "metadata": {},
     "output_type": "execute_result"
    }
   ],
   "source": [
    "from langchain_community.document_loaders import PyPDFLoader\n",
    "\n",
    "pages = PyPDFLoader('zinger_burgers.pdf')\n",
    "list = pages.load()\n",
    "list"
   ]
  },
  {
   "cell_type": "code",
   "execution_count": 4,
   "metadata": {},
   "outputs": [
    {
     "data": {
      "text/plain": [
       "[Document(metadata={'source': 'zinger_burgers.pdf', 'page': 0}, page_content='Popular Types of Zinger Burgers and Their Ingredients\\nClassic Zinger Burger\\n- Spicy fried chicken fillet (crispy)\\n- Lettuce\\n- Mayonnaise or spicy mayo\\n- Soft burger bun\\nCheese Zinger Burger\\n- Spicy fried chicken fillet (crispy)\\n- Slice of cheese (usually cheddar)\\n- Lettuce\\n- Mayonnaise or spicy mayo\\n- Soft burger bun\\nZinger Tower Burger\\n- Spicy fried chicken fillet (crispy)\\n- Hash brown or onion ring\\n- Slice of cheese\\n- Lettuce\\n- Tomato slice\\n- Mayonnaise or spicy mayo\\n- Soft burger bun\\nBBQ Zinger Burger\\n- Spicy fried chicken fillet (crispy)\\n- BBQ sauce\\n- Lettuce'),\n",
       " Document(metadata={'source': 'zinger_burgers.pdf', 'page': 1}, page_content='- Tomato slice\\n- Grilled onions (optional)\\n- Soft burger bun\\nDouble Zinger Burger\\n- Two spicy fried chicken fillets (crispy)\\n- Double slice of cheese\\n- Lettuce\\n- Mayonnaise or spicy mayo\\n- Soft burger bun\\nZinger with Jalapeño\\n- Spicy fried chicken fillet (crispy)\\n- Jalapeño slices\\n- Lettuce\\n- Spicy mayo or chipotle sauce\\n- Soft burger bun\\nZinger with Coleslaw\\n- Spicy fried chicken fillet (crispy)\\n- Coleslaw (creamy cabbage salad)\\n- Soft burger bun\\nZinger with Peri-Peri Sauce\\n- Spicy fried chicken fillet (crispy)\\n- Peri-Peri sauce (a tangy, spicy sauce)\\n- Lettuce\\n- Tomato slice'),\n",
       " Document(metadata={'source': 'zinger_burgers.pdf', 'page': 2}, page_content='- Soft burger bun\\nBacon Zinger Burger\\n- Spicy fried chicken fillet (crispy)\\n- Crispy bacon strips\\n- Slice of cheese\\n- Lettuce\\n- Tomato slice\\n- Mayonnaise or BBQ sauce\\n- Soft burger bun\\nZinger with Avocado\\n- Spicy fried chicken fillet (crispy)\\n- Sliced avocado\\n- Lettuce\\n- Tomato slice\\n- Mayonnaise or ranch dressing\\n- Soft burger bun')]"
      ]
     },
     "execution_count": 4,
     "metadata": {},
     "output_type": "execute_result"
    }
   ],
   "source": [
    "from langchain_text_splitters import RecursiveCharacterTextSplitter\n",
    "\n",
    "text_splitter = RecursiveCharacterTextSplitter()\n",
    "\n",
    "documents = text_splitter.split_documents(list)\n",
    "\n",
    "documents"
   ]
  },
  {
   "cell_type": "code",
   "execution_count": 5,
   "metadata": {},
   "outputs": [
    {
     "name": "stderr",
     "output_type": "stream",
     "text": [
      "c:\\Users\\Administrator\\Desktop\\Python\\Langchain\\GenAi-venv\\lib\\site-packages\\langchain_core\\_api\\deprecation.py:141: LangChainDeprecationWarning: The class `OpenAIEmbeddings` was deprecated in LangChain 0.0.9 and will be removed in 0.3.0. An updated version of the class exists in the langchain-openai package and should be used instead. To use it run `pip install -U langchain-openai` and import as `from langchain_openai import OpenAIEmbeddings`.\n",
      "  warn_deprecated(\n"
     ]
    }
   ],
   "source": [
    "from langchain_community.embeddings import OpenAIEmbeddings\n",
    "embeddings = OpenAIEmbeddings()"
   ]
  },
  {
   "cell_type": "code",
   "execution_count": 7,
   "metadata": {},
   "outputs": [],
   "source": [
    "from langchain_pinecone.vectorstores import PineconeVectorStore\n",
    "\n",
    "index_name = 'pinecone-index'\n",
    "namespace = 'burger'\n",
    "\n",
    "#pinecone_db = PineconeVectorStore.from_documents(index_name=index_name, embedding=embeddings, documents=documents, namespace=namespace)\n",
    "pinecone_db = PineconeVectorStore(index_name=index_name, embedding=embeddings, namespace=namespace)"
   ]
  },
  {
   "cell_type": "code",
   "execution_count": 10,
   "metadata": {},
   "outputs": [
    {
     "data": {
      "text/plain": [
       "[Document(metadata={'page': 2.0, 'source': 'zinger_burgers.pdf'}, page_content='- Soft burger bun\\nBacon Zinger Burger\\n- Spicy fried chicken fillet (crispy)\\n- Crispy bacon strips\\n- Slice of cheese\\n- Lettuce\\n- Tomato slice\\n- Mayonnaise or BBQ sauce\\n- Soft burger bun\\nZinger with Avocado\\n- Spicy fried chicken fillet (crispy)\\n- Sliced avocado\\n- Lettuce\\n- Tomato slice\\n- Mayonnaise or ranch dressing\\n- Soft burger bun')]"
      ]
     },
     "execution_count": 10,
     "metadata": {},
     "output_type": "execute_result"
    }
   ],
   "source": [
    "query = 'Zinger with Avocado'\n",
    "result = pinecone_db.similarity_search(query, k=1, )\n",
    "result"
   ]
  },
  {
   "cell_type": "code",
   "execution_count": 38,
   "metadata": {},
   "outputs": [
    {
     "data": {
      "text/plain": [
       "Ollama(model='gemma2:2b-instruct-q4_0')"
      ]
     },
     "execution_count": 38,
     "metadata": {},
     "output_type": "execute_result"
    }
   ],
   "source": [
    "from langchain_community.llms import Ollama\n",
    "\n",
    "llm = Ollama(model='gemma2:2b-instruct-q4_0')\n",
    "\n",
    "llm"
   ]
  },
  {
   "cell_type": "code",
   "execution_count": 29,
   "metadata": {},
   "outputs": [
    {
     "data": {
      "text/plain": [
       "ChatOpenAI(client=<openai.resources.chat.completions.Completions object at 0x0000017747994BB0>, async_client=<openai.resources.chat.completions.AsyncCompletions object at 0x0000017747996BC0>, root_client=<openai.OpenAI object at 0x0000017747977F40>, root_async_client=<openai.AsyncOpenAI object at 0x0000017747994BE0>, model_name='gpt-4o-mini', openai_api_key=SecretStr('**********'), openai_proxy='')"
      ]
     },
     "execution_count": 29,
     "metadata": {},
     "output_type": "execute_result"
    }
   ],
   "source": [
    "from langchain_openai import ChatOpenAI\n",
    "openllm = ChatOpenAI(model='gpt-4o-mini')\n",
    "openllm"
   ]
  },
  {
   "cell_type": "code",
   "execution_count": 30,
   "metadata": {},
   "outputs": [],
   "source": [
    "from langchain_core.prompts import ChatPromptTemplate\n",
    "prompt = ChatPromptTemplate.from_template(\n",
    "    \"\"\"Answer the following question according to provided context:\n",
    "    <context>\n",
    "    {context}\n",
    "    </context>\n",
    "    \n",
    "    Question: {input}\"\"\"\n",
    ")"
   ]
  },
  {
   "cell_type": "code",
   "execution_count": 31,
   "metadata": {},
   "outputs": [],
   "source": [
    "from langchain.chains.combine_documents import create_stuff_documents_chain\n",
    "\n",
    "document_chain = create_stuff_documents_chain(openllm ,prompt)"
   ]
  },
  {
   "cell_type": "code",
   "execution_count": 32,
   "metadata": {},
   "outputs": [
    {
     "data": {
      "text/plain": [
       "VectorStoreRetriever(tags=['PineconeVectorStore', 'OpenAIEmbeddings'], vectorstore=<langchain_pinecone.vectorstores.PineconeVectorStore object at 0x0000017740C8CB50>)"
      ]
     },
     "execution_count": 32,
     "metadata": {},
     "output_type": "execute_result"
    }
   ],
   "source": [
    "retriver = pinecone_db.as_retriever()\n",
    "retriver"
   ]
  },
  {
   "cell_type": "code",
   "execution_count": 33,
   "metadata": {},
   "outputs": [],
   "source": [
    "from langchain.chains import create_retrieval_chain\n",
    "retrieval_chain = create_retrieval_chain(retriver, document_chain)"
   ]
  },
  {
   "cell_type": "code",
   "execution_count": 34,
   "metadata": {},
   "outputs": [
    {
     "data": {
      "text/plain": [
       "'The ingredients in a BBQ Zinger Burger are:\\n\\n- Spicy fried chicken fillet (crispy)\\n- BBQ sauce\\n- Lettuce\\n- Soft burger bun'"
      ]
     },
     "execution_count": 34,
     "metadata": {},
     "output_type": "execute_result"
    }
   ],
   "source": [
    "response = retrieval_chain.invoke({\"input\": \"What are ingredients in BBQ Zinger Burger?\"})\n",
    "response['answer']"
   ]
  },
  {
   "cell_type": "code",
   "execution_count": null,
   "metadata": {},
   "outputs": [],
   "source": []
  }
 ],
 "metadata": {
  "kernelspec": {
   "display_name": "Python 3",
   "language": "python",
   "name": "python3"
  },
  "language_info": {
   "codemirror_mode": {
    "name": "ipython",
    "version": 3
   },
   "file_extension": ".py",
   "mimetype": "text/x-python",
   "name": "python",
   "nbconvert_exporter": "python",
   "pygments_lexer": "ipython3",
   "version": "3.10.9"
  }
 },
 "nbformat": 4,
 "nbformat_minor": 2
}
